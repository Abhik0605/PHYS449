{
 "cells": [
  {
   "cell_type": "code",
   "execution_count": 1,
   "metadata": {},
   "outputs": [],
   "source": [
    "import torch\n",
    "import torch.nn as nn\n",
    "import os\n",
    "import pandas as pd\n",
    "import matplotlib.pyplot as plt\n",
    "import numpy as np\n",
    "import torch.nn.functional as F\n",
    "import torch.optim as optim"
   ]
  },
  {
   "cell_type": "code",
   "execution_count": 18,
   "metadata": {
    "scrolled": true
   },
   "outputs": [
    {
     "data": {
      "text/plain": [
       "<matplotlib.image.AxesImage at 0x7efd0154ae20>"
      ]
     },
     "execution_count": 18,
     "metadata": {},
     "output_type": "execute_result"
    },
    {
     "data": {
      "image/png": "[encoded data removed]",
      "text/plain": [
       "<Figure size 432x288 with 1 Axes>"
      ]
     },
     "metadata": {
      "needs_background": "light"
     },
     "output_type": "display_data"
    }
   ],
   "source": [
    "data = pd.read_csv('../inputs/even_mnist.csv', header = None, sep = ' ')\n",
    "\n",
    "\n",
    "test_data = data.sample(n=3000, random_state=1)\n",
    "train_data = data.drop(test_data.columns, axis=1)\n",
    "\n",
    "test_labels = data.iloc[-1 , :]\n",
    "train_labels = data.iloc[-1 , :]\n",
    "\n",
    "test_data = test_data/255\n",
    "train_data = train_data/255\n",
    "\n",
    "test_data.drop(test_data.tail(1).index,inplace=True)\n",
    "train_data.drop(train_data.tail(1).index,inplace=True)\n",
    "\n",
    "foo = np.array(train_data[5])\n",
    "plt.imshow(np.reshape(foo, (14,14)))"
   ]
  },
  {
   "cell_type": "code",
   "execution_count": 116,
   "metadata": {},
   "outputs": [
    {
     "data": {
      "text/html": [
       "<div>\n",
       "<style scoped>\n",
       "    .dataframe tbody tr th:only-of-type {\n",
       "        vertical-align: middle;\n",
       "    }\n",
       "\n",
       "    .dataframe tbody tr th {\n",
       "        vertical-align: top;\n",
       "    }\n",
       "\n",
       "    .dataframe thead th {\n",
       "        text-align: right;\n",
       "    }\n",
       "</style>\n",
       "<table border=\"1\" class=\"dataframe\">\n",
       "  <thead>\n",
       "    <tr style=\"text-align: right;\">\n",
       "      <th></th>\n",
       "      <th>0</th>\n",
       "      <th>1</th>\n",
       "      <th>2</th>\n",
       "      <th>3</th>\n",
       "      <th>4</th>\n",
       "      <th>5</th>\n",
       "      <th>6</th>\n",
       "      <th>7</th>\n",
       "      <th>8</th>\n",
       "      <th>9</th>\n",
       "      <th>...</th>\n",
       "      <th>187</th>\n",
       "      <th>188</th>\n",
       "      <th>189</th>\n",
       "      <th>190</th>\n",
       "      <th>191</th>\n",
       "      <th>192</th>\n",
       "      <th>193</th>\n",
       "      <th>194</th>\n",
       "      <th>195</th>\n",
       "      <th>196</th>\n",
       "    </tr>\n",
       "  </thead>\n",
       "  <tbody>\n",
       "    <tr>\n",
       "      <th>0</th>\n",
       "      <td>0</td>\n",
       "      <td>0</td>\n",
       "      <td>0</td>\n",
       "      <td>0</td>\n",
       "      <td>0</td>\n",
       "      <td>0</td>\n",
       "      <td>0</td>\n",
       "      <td>0</td>\n",
       "      <td>0</td>\n",
       "      <td>0</td>\n",
       "      <td>...</td>\n",
       "      <td>0</td>\n",
       "      <td>0</td>\n",
       "      <td>0</td>\n",
       "      <td>0</td>\n",
       "      <td>0</td>\n",
       "      <td>0</td>\n",
       "      <td>0</td>\n",
       "      <td>0</td>\n",
       "      <td>0</td>\n",
       "      <td>0</td>\n",
       "    </tr>\n",
       "    <tr>\n",
       "      <th>1</th>\n",
       "      <td>0</td>\n",
       "      <td>0</td>\n",
       "      <td>0</td>\n",
       "      <td>0</td>\n",
       "      <td>0</td>\n",
       "      <td>0</td>\n",
       "      <td>0</td>\n",
       "      <td>0</td>\n",
       "      <td>0</td>\n",
       "      <td>0</td>\n",
       "      <td>...</td>\n",
       "      <td>0</td>\n",
       "      <td>0</td>\n",
       "      <td>0</td>\n",
       "      <td>0</td>\n",
       "      <td>0</td>\n",
       "      <td>0</td>\n",
       "      <td>0</td>\n",
       "      <td>0</td>\n",
       "      <td>0</td>\n",
       "      <td>4</td>\n",
       "    </tr>\n",
       "    <tr>\n",
       "      <th>3</th>\n",
       "      <td>0</td>\n",
       "      <td>0</td>\n",
       "      <td>0</td>\n",
       "      <td>0</td>\n",
       "      <td>0</td>\n",
       "      <td>0</td>\n",
       "      <td>0</td>\n",
       "      <td>0</td>\n",
       "      <td>0</td>\n",
       "      <td>0</td>\n",
       "      <td>...</td>\n",
       "      <td>0</td>\n",
       "      <td>0</td>\n",
       "      <td>0</td>\n",
       "      <td>0</td>\n",
       "      <td>0</td>\n",
       "      <td>0</td>\n",
       "      <td>0</td>\n",
       "      <td>0</td>\n",
       "      <td>0</td>\n",
       "      <td>4</td>\n",
       "    </tr>\n",
       "    <tr>\n",
       "      <th>4</th>\n",
       "      <td>0</td>\n",
       "      <td>0</td>\n",
       "      <td>0</td>\n",
       "      <td>0</td>\n",
       "      <td>0</td>\n",
       "      <td>0</td>\n",
       "      <td>0</td>\n",
       "      <td>0</td>\n",
       "      <td>0</td>\n",
       "      <td>0</td>\n",
       "      <td>...</td>\n",
       "      <td>0</td>\n",
       "      <td>0</td>\n",
       "      <td>0</td>\n",
       "      <td>0</td>\n",
       "      <td>0</td>\n",
       "      <td>0</td>\n",
       "      <td>0</td>\n",
       "      <td>0</td>\n",
       "      <td>0</td>\n",
       "      <td>6</td>\n",
       "    </tr>\n",
       "    <tr>\n",
       "      <th>5</th>\n",
       "      <td>0</td>\n",
       "      <td>0</td>\n",
       "      <td>0</td>\n",
       "      <td>0</td>\n",
       "      <td>0</td>\n",
       "      <td>0</td>\n",
       "      <td>0</td>\n",
       "      <td>0</td>\n",
       "      <td>0</td>\n",
       "      <td>0</td>\n",
       "      <td>...</td>\n",
       "      <td>0</td>\n",
       "      <td>0</td>\n",
       "      <td>0</td>\n",
       "      <td>0</td>\n",
       "      <td>0</td>\n",
       "      <td>0</td>\n",
       "      <td>0</td>\n",
       "      <td>0</td>\n",
       "      <td>0</td>\n",
       "      <td>2</td>\n",
       "    </tr>\n",
       "    <tr>\n",
       "      <th>...</th>\n",
       "      <td>...</td>\n",
       "      <td>...</td>\n",
       "      <td>...</td>\n",
       "      <td>...</td>\n",
       "      <td>...</td>\n",
       "      <td>...</td>\n",
       "      <td>...</td>\n",
       "      <td>...</td>\n",
       "      <td>...</td>\n",
       "      <td>...</td>\n",
       "      <td>...</td>\n",
       "      <td>...</td>\n",
       "      <td>...</td>\n",
       "      <td>...</td>\n",
       "      <td>...</td>\n",
       "      <td>...</td>\n",
       "      <td>...</td>\n",
       "      <td>...</td>\n",
       "      <td>...</td>\n",
       "      <td>...</td>\n",
       "      <td>...</td>\n",
       "    </tr>\n",
       "    <tr>\n",
       "      <th>29487</th>\n",
       "      <td>0</td>\n",
       "      <td>0</td>\n",
       "      <td>0</td>\n",
       "      <td>0</td>\n",
       "      <td>0</td>\n",
       "      <td>0</td>\n",
       "      <td>0</td>\n",
       "      <td>0</td>\n",
       "      <td>0</td>\n",
       "      <td>0</td>\n",
       "      <td>...</td>\n",
       "      <td>0</td>\n",
       "      <td>0</td>\n",
       "      <td>0</td>\n",
       "      <td>0</td>\n",
       "      <td>0</td>\n",
       "      <td>0</td>\n",
       "      <td>0</td>\n",
       "      <td>0</td>\n",
       "      <td>0</td>\n",
       "      <td>8</td>\n",
       "    </tr>\n",
       "    <tr>\n",
       "      <th>29488</th>\n",
       "      <td>0</td>\n",
       "      <td>0</td>\n",
       "      <td>0</td>\n",
       "      <td>0</td>\n",
       "      <td>0</td>\n",
       "      <td>0</td>\n",
       "      <td>0</td>\n",
       "      <td>0</td>\n",
       "      <td>0</td>\n",
       "      <td>0</td>\n",
       "      <td>...</td>\n",
       "      <td>0</td>\n",
       "      <td>0</td>\n",
       "      <td>0</td>\n",
       "      <td>0</td>\n",
       "      <td>0</td>\n",
       "      <td>0</td>\n",
       "      <td>0</td>\n",
       "      <td>0</td>\n",
       "      <td>0</td>\n",
       "      <td>2</td>\n",
       "    </tr>\n",
       "    <tr>\n",
       "      <th>29489</th>\n",
       "      <td>0</td>\n",
       "      <td>0</td>\n",
       "      <td>0</td>\n",
       "      <td>0</td>\n",
       "      <td>0</td>\n",
       "      <td>0</td>\n",
       "      <td>0</td>\n",
       "      <td>0</td>\n",
       "      <td>0</td>\n",
       "      <td>0</td>\n",
       "      <td>...</td>\n",
       "      <td>0</td>\n",
       "      <td>0</td>\n",
       "      <td>0</td>\n",
       "      <td>0</td>\n",
       "      <td>0</td>\n",
       "      <td>0</td>\n",
       "      <td>0</td>\n",
       "      <td>0</td>\n",
       "      <td>0</td>\n",
       "      <td>8</td>\n",
       "    </tr>\n",
       "    <tr>\n",
       "      <th>29490</th>\n",
       "      <td>0</td>\n",
       "      <td>0</td>\n",
       "      <td>0</td>\n",
       "      <td>0</td>\n",
       "      <td>0</td>\n",
       "      <td>0</td>\n",
       "      <td>0</td>\n",
       "      <td>0</td>\n",
       "      <td>0</td>\n",
       "      <td>0</td>\n",
       "      <td>...</td>\n",
       "      <td>0</td>\n",
       "      <td>0</td>\n",
       "      <td>0</td>\n",
       "      <td>0</td>\n",
       "      <td>0</td>\n",
       "      <td>0</td>\n",
       "      <td>0</td>\n",
       "      <td>0</td>\n",
       "      <td>0</td>\n",
       "      <td>6</td>\n",
       "    </tr>\n",
       "    <tr>\n",
       "      <th>29491</th>\n",
       "      <td>0</td>\n",
       "      <td>0</td>\n",
       "      <td>0</td>\n",
       "      <td>0</td>\n",
       "      <td>0</td>\n",
       "      <td>0</td>\n",
       "      <td>0</td>\n",
       "      <td>0</td>\n",
       "      <td>0</td>\n",
       "      <td>0</td>\n",
       "      <td>...</td>\n",
       "      <td>0</td>\n",
       "      <td>0</td>\n",
       "      <td>0</td>\n",
       "      <td>0</td>\n",
       "      <td>0</td>\n",
       "      <td>0</td>\n",
       "      <td>0</td>\n",
       "      <td>0</td>\n",
       "      <td>0</td>\n",
       "      <td>8</td>\n",
       "    </tr>\n",
       "  </tbody>\n",
       "</table>\n",
       "<p>26492 rows × 197 columns</p>\n",
       "</div>"
      ],
      "text/plain": [
       "       0    1    2    3    4    5    6    7    8    9    ...  187  188  189  \\\n",
       "0        0    0    0    0    0    0    0    0    0    0  ...    0    0    0   \n",
       "1        0    0    0    0    0    0    0    0    0    0  ...    0    0    0   \n",
       "3        0    0    0    0    0    0    0    0    0    0  ...    0    0    0   \n",
       "4        0    0    0    0    0    0    0    0    0    0  ...    0    0    0   \n",
       "5        0    0    0    0    0    0    0    0    0    0  ...    0    0    0   \n",
       "...    ...  ...  ...  ...  ...  ...  ...  ...  ...  ...  ...  ...  ...  ...   \n",
       "29487    0    0    0    0    0    0    0    0    0    0  ...    0    0    0   \n",
       "29488    0    0    0    0    0    0    0    0    0    0  ...    0    0    0   \n",
       "29489    0    0    0    0    0    0    0    0    0    0  ...    0    0    0   \n",
       "29490    0    0    0    0    0    0    0    0    0    0  ...    0    0    0   \n",
       "29491    0    0    0    0    0    0    0    0    0    0  ...    0    0    0   \n",
       "\n",
       "       190  191  192  193  194  195  196  \n",
       "0        0    0    0    0    0    0    0  \n",
       "1        0    0    0    0    0    0    4  \n",
       "3        0    0    0    0    0    0    4  \n",
       "4        0    0    0    0    0    0    6  \n",
       "5        0    0    0    0    0    0    2  \n",
       "...    ...  ...  ...  ...  ...  ...  ...  \n",
       "29487    0    0    0    0    0    0    8  \n",
       "29488    0    0    0    0    0    0    2  \n",
       "29489    0    0    0    0    0    0    8  \n",
       "29490    0    0    0    0    0    0    6  \n",
       "29491    0    0    0    0    0    0    8  \n",
       "\n",
       "[26492 rows x 197 columns]"
      ]
     },
     "execution_count": 116,
     "metadata": {},
     "output_type": "execute_result"
    }
   ],
   "source": [
    "test_data = data.sample(n=3000, random_state=1)\n",
    "train_data = data.drop(test_data.index)\n"
   ]
  },
  {
   "cell_type": "code",
   "execution_count": 112,
   "metadata": {},
   "outputs": [
    {
     "data": {
      "text/plain": [
       "0"
      ]
     },
     "execution_count": 112,
     "metadata": {},
     "output_type": "execute_result"
    }
   ],
   "source": [
    "data = pd.read_csv('../inputs/even_mnist.csv', header = None, sep = ' ')\n",
    "images = data.iloc[:,:-1]\n",
    "labels = data.iloc[:,-1:]\n",
    "np.array(images.iloc[0])"
   ]
  },
  {
   "cell_type": "code",
   "execution_count": 75,
   "metadata": {},
   "outputs": [],
   "source": [
    "class Net(nn.Module):\n",
    "    def __init__(self):\n",
    "        super(Net, self).__init__()\n",
    "        # an affine operation: y = Wx + b\n",
    "        self.fc1 = nn.Linear(196, 98) \n",
    "        self.fc2 = nn.Linear(98, 84)\n",
    "        self.fc3 = nn.Linear(84, 5)\n",
    "\n",
    "    def forward(self, x):\n",
    "        # Max pooling over a (2, 2) window\n",
    "        x = F.relu(self.fc1(x))\n",
    "        x = F.relu(self.fc2(x))\n",
    "        x = F.softmax(self.fc3(x))\n",
    "        \n",
    "        return x\n"
   ]
  },
  {
   "cell_type": "code",
   "execution_count": 76,
   "metadata": {},
   "outputs": [],
   "source": [
    "one_hot_matrix = F.one_hot(torch.arange(0, 5) , num_classes=5)\n",
    "\n",
    "def one_hot(target, one_hot):\n",
    "    new_target_vector = one_hot[int(target/2)]\n",
    "    return new_target_vector\n",
    "\n"
   ]
  },
  {
   "cell_type": "code",
   "execution_count": 77,
   "metadata": {},
   "outputs": [
    {
     "name": "stdout",
     "output_type": "stream",
     "text": [
      "cpu\n"
     ]
    }
   ],
   "source": [
    "device = torch.device(\"cpu\")\n",
    "\n",
    "# Assuming that we are on a CUDA machine, this should print a CUDA device:\n",
    "\n",
    "print(device)"
   ]
  },
  {
   "cell_type": "code",
   "execution_count": 78,
   "metadata": {},
   "outputs": [
    {
     "data": {
      "text/plain": [
       "tensor(0)"
      ]
     },
     "execution_count": 78,
     "metadata": {},
     "output_type": "execute_result"
    }
   ],
   "source": [
    "targets = torch.from_numpy(np.array(train_labels))\n",
    "targets[0]"
   ]
  },
  {
   "cell_type": "code",
   "execution_count": 79,
   "metadata": {},
   "outputs": [],
   "source": [
    "model = Net().to(torch.device(device))"
   ]
  },
  {
   "cell_type": "code",
   "execution_count": 80,
   "metadata": {},
   "outputs": [
    {
     "name": "stderr",
     "output_type": "stream",
     "text": [
      "<ipython-input-75-040632623555>:13: UserWarning: Implicit dimension choice for softmax has been deprecated. Change the call to include dim=X as an argument.\n",
      "  x = F.softmax(self.fc3(x))\n"
     ]
    },
    {
     "data": {
      "text/plain": [
       "tensor([[0.2006, 0.1933, 0.2079, 0.2107, 0.1874]], grad_fn=<SoftmaxBackward>)"
      ]
     },
     "execution_count": 80,
     "metadata": {},
     "output_type": "execute_result"
    }
   ],
   "source": [
    "inputs = torch.from_numpy(np.array(train_data.transpose()))\n",
    "foo = torch.reshape(inputs[1].float(), (1,-1))\n",
    "x = model.forward(foo)\n",
    "x"
   ]
  },
  {
   "cell_type": "code",
   "execution_count": null,
   "metadata": {},
   "outputs": [],
   "source": []
  },
  {
   "cell_type": "code",
   "execution_count": 81,
   "metadata": {},
   "outputs": [],
   "source": [
    "learning_rate = 0.01\n",
    "optimizer = optim.SGD(model.parameters(), lr=learning_rate)"
   ]
  },
  {
   "cell_type": "code",
   "execution_count": 85,
   "metadata": {},
   "outputs": [
    {
     "name": "stderr",
     "output_type": "stream",
     "text": [
      "<ipython-input-75-040632623555>:13: UserWarning: Implicit dimension choice for softmax has been deprecated. Change the call to include dim=X as an argument.\n",
      "  x = F.softmax(self.fc3(x))\n"
     ]
    },
    {
     "ename": "TypeError",
     "evalue": "expected np.ndarray (got numpy.int64)",
     "output_type": "error",
     "traceback": [
      "\u001b[0;31m---------------------------------------------------------------------------\u001b[0m",
      "\u001b[0;31mTypeError\u001b[0m                                 Traceback (most recent call last)",
      "\u001b[0;32m<ipython-input-85-5f82187555f6>\u001b[0m in \u001b[0;36m<module>\u001b[0;34m\u001b[0m\n\u001b[1;32m     21\u001b[0m \u001b[0;31m#         print('\\n')\u001b[0m\u001b[0;34m\u001b[0m\u001b[0;34m\u001b[0m\u001b[0;34m\u001b[0m\u001b[0m\n\u001b[1;32m     22\u001b[0m         \u001b[0moptimizer\u001b[0m\u001b[0;34m.\u001b[0m\u001b[0mzero_grad\u001b[0m\u001b[0;34m(\u001b[0m\u001b[0;34m)\u001b[0m\u001b[0;34m\u001b[0m\u001b[0;34m\u001b[0m\u001b[0m\n\u001b[0;32m---> 23\u001b[0;31m         \u001b[0mobj_val\u001b[0m \u001b[0;34m=\u001b[0m \u001b[0mloss\u001b[0m\u001b[0;34m(\u001b[0m\u001b[0mmodel\u001b[0m\u001b[0;34m.\u001b[0m\u001b[0mforward\u001b[0m\u001b[0;34m(\u001b[0m\u001b[0minput_temp\u001b[0m\u001b[0;34m)\u001b[0m\u001b[0;34m,\u001b[0m \u001b[0mtorch\u001b[0m\u001b[0;34m.\u001b[0m\u001b[0mfrom_numpy\u001b[0m\u001b[0;34m(\u001b[0m\u001b[0mtrain_labels\u001b[0m\u001b[0;34m[\u001b[0m\u001b[0mi\u001b[0m\u001b[0;34m]\u001b[0m\u001b[0;34m)\u001b[0m\u001b[0;34m)\u001b[0m\u001b[0;34m\u001b[0m\u001b[0;34m\u001b[0m\u001b[0m\n\u001b[0m\u001b[1;32m     24\u001b[0m \u001b[0;31m#         print(model.forward(input_temp))\u001b[0m\u001b[0;34m\u001b[0m\u001b[0;34m\u001b[0m\u001b[0;34m\u001b[0m\u001b[0m\n\u001b[1;32m     25\u001b[0m \u001b[0;31m#         print('\\n')\u001b[0m\u001b[0;34m\u001b[0m\u001b[0;34m\u001b[0m\u001b[0;34m\u001b[0m\u001b[0m\n",
      "\u001b[0;31mTypeError\u001b[0m: expected np.ndarray (got numpy.int64)"
     ]
    }
   ],
   "source": [
    "num_epochs = int(1e4)\n",
    "display_epochs = int(1e3)\n",
    "\n",
    "obj_vals= []\n",
    "\n",
    "inputs = torch.from_numpy(np.array(train_data.transpose()))\n",
    "\n",
    "loss = nn.CrossEntropyLoss()\n",
    "\n",
    "for epoch in range(10): \n",
    "    for i in range(len(train_data.columns)):\n",
    "        #input_temp = torch.reshape(inputs[i].float(), (1,-1))\n",
    "        input_temp = inputs[i].float()\n",
    "#         print(input_temp)\n",
    "         \n",
    "        input_temp = input_temp.to(device)\n",
    "        target_temp = one_hot(train_labels[i], one_hot_matrix)\n",
    "        target_temp = target_temp.to(device).float()\n",
    "        #target_temp = torch.reshape(target_temp, (1,-1)).float()\n",
    "#         print(target_temp)\n",
    "#         print('\\n')\n",
    "        optimizer.zero_grad()\n",
    "        obj_val = loss(model.forward(input_temp), )\n",
    "#         print(model.forward(input_temp))\n",
    "#         print('\\n')\n",
    "        \n",
    "         # clear any previous gradients  \n",
    "        obj_val.backward() # backprop step, calculates gradient values\n",
    "        optimizer.step() # apply gradients to model parameters\n",
    "#         print(obj_val.item())\n",
    "#         print('\\n')\n",
    "        obj_vals.append(obj_val.item())\n",
    "    print(f'Epoch [{epoch}/{10}]\\tLoss: {obj_val.item()}')"
   ]
  },
  {
   "cell_type": "code",
   "execution_count": null,
   "metadata": {},
   "outputs": [],
   "source": [
    "with torch.no_grad():\n",
    "    for i in range(len(test_data.columns)):\n",
    "        "
   ]
  },
  {
   "cell_type": "code",
   "execution_count": 23,
   "metadata": {},
   "outputs": [
    {
     "data": {
      "text/plain": [
       "torch.Size([26492, 196])"
      ]
     },
     "execution_count": 23,
     "metadata": {},
     "output_type": "execute_result"
    }
   ],
   "source": [
    "inputs.shape"
   ]
  },
  {
   "cell_type": "code",
   "execution_count": 24,
   "metadata": {},
   "outputs": [
    {
     "data": {
      "text/plain": [
       "tensor([0.0000, 0.0000, 0.0000, 0.0000, 0.0000, 0.0000, 0.0000, 0.0000, 0.0000,\n",
       "        0.0000, 0.0000, 0.0000, 0.0000, 0.0000, 0.0000, 0.0000, 0.0000, 0.0000,\n",
       "        0.0000, 0.0000, 0.0000, 0.0000, 0.0000, 0.0000, 0.0000, 0.0000, 0.0000,\n",
       "        0.0000, 0.0000, 0.0000, 0.0000, 0.0000, 0.0000, 0.0000, 0.0000, 0.9333,\n",
       "        0.9922, 0.9882, 0.0000, 0.0000, 0.0000, 0.0000, 0.0000, 0.0000, 0.0000,\n",
       "        0.0000, 0.0000, 0.0392, 0.8784, 0.9922, 0.9882, 0.9882, 0.9922, 0.0000,\n",
       "        0.0000, 0.0000, 0.0000, 0.0000, 0.0000, 0.0000, 0.0000, 0.9333, 0.9922,\n",
       "        0.9922, 0.9922, 0.7412, 1.0000, 0.0000, 0.0000, 0.0000, 0.0000, 0.0000,\n",
       "        0.0000, 0.0000, 0.6471, 0.9922, 0.9882, 0.2941, 0.4745, 0.0000, 0.9922,\n",
       "        0.6471, 0.0000, 0.0000, 0.0000, 0.0000, 0.0000, 0.2235, 0.9882, 0.9412,\n",
       "        0.1098, 0.0000, 0.0000, 0.0000, 0.9922, 0.7647, 0.0000, 0.0000, 0.0000,\n",
       "        0.0000, 0.0000, 0.9647, 0.9922, 0.0000, 0.0000, 0.0000, 0.0000, 0.0000,\n",
       "        1.0000, 0.7686, 0.0000, 0.0000, 0.0000, 0.0000, 0.0000, 0.9882, 0.9020,\n",
       "        0.0000, 0.0000, 0.0000, 0.0275, 0.9882, 0.9922, 0.0471, 0.0000, 0.0000,\n",
       "        0.0000, 0.0000, 0.0000, 0.9922, 0.8824, 0.0000, 0.0000, 0.4471, 0.9922,\n",
       "        0.9882, 0.0000, 0.0000, 0.0000, 0.0000, 0.0000, 0.0000, 0.0000, 0.9882,\n",
       "        0.9882, 0.8980, 0.9882, 0.9922, 0.8745, 0.2196, 0.0000, 0.0000, 0.0000,\n",
       "        0.0000, 0.0000, 0.0000, 0.0000, 0.7804, 0.9882, 0.9922, 0.9882, 0.5686,\n",
       "        0.0000, 0.0000, 0.0000, 0.0000, 0.0000, 0.0000, 0.0000, 0.0000, 0.0000,\n",
       "        0.0000, 0.0000, 0.0000, 0.0000, 0.0000, 0.0000, 0.0000, 0.0000, 0.0000,\n",
       "        0.0000, 0.0000, 0.0000, 0.0000, 0.0000, 0.0000, 0.0000, 0.0000, 0.0000,\n",
       "        0.0000, 0.0000, 0.0000, 0.0000, 0.0000, 0.0000, 0.0000],\n",
       "       dtype=torch.float64)"
      ]
     },
     "execution_count": 24,
     "metadata": {},
     "output_type": "execute_result"
    }
   ],
   "source": [
    "inputs[0]"
   ]
  },
  {
   "cell_type": "code",
   "execution_count": 125,
   "metadata": {},
   "outputs": [],
   "source": [
    "x = [0.06178394705057144, 0.30302080512046814, 0.32980144023895264, 0.15503233671188354, 0.26321840286254883, 0.3521067500114441, 0.5268468856811523, 0.26762139797210693, 0.2351972460746765, 0.22135350108146667, 0.1368577480316162, 0.24990887939929962, 0.13161517679691315, 0.14755749702453613, 0.10597336292266846, 0.12467000633478165, 0.32064130902290344, 0.17991839349269867, 0.2336931824684143, 0.3936122953891754, 0.10929305851459503, 0.07710918039083481, 0.5118269324302673, 0.27278465032577515, 0.15617668628692627, 0.2251359075307846, 0.2190437763929367, 0.44293445348739624, 0.32804998755455017, 0.07188724726438522, 0.3501746356487274, 0.02306719683110714, 0.2880306839942932, 0.21515606343746185, 0.07441385835409164, 0.1339053064584732, 0.23653863370418549, 0.3561802804470062, 0.12236981093883514, 0.16537171602249146, 0.4138690233230591, 0.38960161805152893, 0.12243333458900452, 0.2217627912759781, 0.12381470948457718, 0.17209544777870178, 0.34490320086479187, 0.22327017784118652, 0.023634444922208786, 0.2220483273267746, 0.32615789771080017, 0.08598817139863968, 0.101287342607975, 0.3007643520832062, 0.07060300558805466, 0.09621142596006393, 0.0758710727095604, 0.1481330245733261, 0.16097930073738098, 0.3431725800037384, 0.07479836791753769, 0.09793470054864883, 0.20079271495342255, 0.1347653716802597, 0.1024264320731163, 0.13304433226585388, 0.31932908296585083, 0.379801481962204, 0.19162610173225403, 0.25983157753944397, 0.29433783888816833, 0.16756463050842285, 0.09246962517499924, 0.15649716556072235, 0.32834911346435547, 0.17704272270202637, 0.04169822484254837, 0.14739665389060974, 0.16777969896793365, 0.0448114238679409, 0.27232611179351807, 0.03816833347082138, 0.07759726047515869, 0.34702804684638977, 0.04591568931937218, 0.714491069316864, 0.1582072377204895, 0.08432818949222565, 0.1623053252696991, 0.15908685326576233, 0.13341973721981049, 0.17779842019081116, 0.05273943394422531, 0.046650148928165436, 0.20052164793014526, 0.1756431758403778, 0.22446872293949127, 0.14337943494319916, 0.09552617371082306, 0.21323229372501373, 0.0473446324467659, 0.2204500287771225, 0.18542706966400146, 0.08086955547332764, 0.06686080247163773, 0.08852546662092209, 0.08397774398326874, 0.057036980986595154, 0.025776535272598267, 0.23031215369701385, 0.1542772352695465, 0.08960455656051636, 0.3079177439212799, 0.07518411427736282, 0.11974138766527176, 0.0614125095307827, 0.12339778989553452, 0.03484252467751503, 0.04920647665858269, 0.08278454095125198, 0.16934306919574738, 0.18870770931243896, 0.09330511838197708, 0.1938878744840622, 0.09603279083967209, 0.20102088153362274, 0.148428812623024, 0.04220506176352501, 0.10499395430088043, 0.11858141422271729, 0.07407832890748978, 0.2690414488315582, 0.33215469121932983, 0.5120801329612732, 0.14638279378414154, 0.23415762186050415, 0.11260052770376205, 0.16333362460136414, 0.10902232676744461, 0.7332723736763, 0.11534244567155838, 0.09810864180326462, 0.19830887019634247, 0.04217763990163803, 0.36375540494918823, 0.03407701104879379, 0.2249208390712738, 0.1156768798828125, 0.1417190134525299, 0.1250482201576233, 0.12588343024253845, 0.04761873185634613, 0.13005298376083374, 0.2085132896900177, 0.1159786581993103, 0.04867997765541077, 0.16360525786876678, 0.0576629638671875, 0.1696096956729889, 0.40674370527267456, 0.06369474530220032, 0.04061828926205635, 0.30100560188293457, 0.11160934716463089, 0.056940943002700806, 0.2251075804233551, 0.15362566709518433, 0.18192467093467712, 0.08603306859731674, 0.12647117674350739, 0.09630860388278961, 0.15048035979270935, 0.2035551816225052, 0.053450144827365875, 0.10729487240314484, 0.17364203929901123, 0.22542937099933624, 0.07452822476625443, 0.13110743463039398, 0.051824819296598434, 0.07770822197198868, 0.0347188301384449, 0.04432258754968643, 0.0859769806265831, 0.025806935504078865, 0.09762739390134811, 0.1935025453567505, 0.09564167261123657, 0.01655120588839054, 0.07244880497455597, 0.10122525691986084, 0.11735010892152786, 0.04475083202123642, 0.012359462678432465, 0.25420910120010376, 0.09420841932296753, 0.1302034705877304, 0.1638278067111969, 0.2144772857427597, 0.6226219534873962, 0.12458167970180511, 0.0951891839504242, 0.020587943494319916, 0.029194429516792297, 0.313015341758728, 0.031201764941215515, 0.11312831193208694, 0.35758569836616516, 0.13310766220092773, 0.13630595803260803, 0.06342823803424835, 0.009091238491237164, 0.21165305376052856, 0.08490278571844101, 0.03651106730103493, 0.024387158453464508, 0.16219407320022583, 0.11301369220018387, 0.16176283359527588, 0.15685999393463135, 0.14789393544197083, 0.06524331867694855, 0.07231611013412476, 0.06108271703124046, 0.1309332400560379, 0.04478829354047775, 0.13804450631141663, 0.08849012106657028, 0.06552109122276306, 0.0316915325820446, 0.23264798521995544, 0.022390950471162796, 0.05543714389204979, 0.2197733372449875, 0.03244006633758545]\n",
    "y = np.linspace(0,1,len(x))"
   ]
  },
  {
   "cell_type": "code",
   "execution_count": 126,
   "metadata": {},
   "outputs": [
    {
     "data": {
      "text/plain": [
       "[<matplotlib.lines.Line2D at 0x7efcdc04d730>]"
      ]
     },
     "execution_count": 126,
     "metadata": {},
     "output_type": "execute_result"
    },
    {
     "data": {
      "image/png": "[encoded data removed]",
      "text/plain": [
       "<Figure size 432x288 with 1 Axes>"
      ]
     },
     "metadata": {
      "needs_background": "light"
     },
     "output_type": "display_data"
    }
   ],
   "source": [
    "plt.plot(y,x)\n",
    "plt.yscale()"
   ]
  },
  {
   "cell_type": "code",
   "execution_count": 127,
   "metadata": {},
   "outputs": [
    {
     "data": {
      "image/png": "[encoded data removed]",
      "text/plain": [
       "<Figure size 432x288 with 4 Axes>"
      ]
     },
     "metadata": {
      "needs_background": "light"
     },
     "output_type": "display_data"
    }
   ],
   "source": [
    "fig = plt.figure()\n",
    "ax1 = fig.add_subplot(221)\n",
    "ax2 = fig.add_subplot(222)\n",
    "ax3 = fig.add_subplot(223)\n",
    "ax4 = fig.add_subplot(224)\n",
    "x = np.linspace(0, np.pi)\n",
    "y2 = -x * 2\n",
    "y_sin = np.sin(x)\n",
    "y_cos = np.cos(x)\n",
    "z = x ** 2 + x\n",
    "ax1.plot(x, y_cos)\n",
    "ax2.plot(x, z, 'co-', linewidth = 1, markersize = 2)\n",
    "ax3.plot(x, y_sin, color = 'blue', marker = '+', linestyle = 'dashed')\n",
    "ax4.plot(x, y2, 'm-.', markersize = 2)\n",
    "plt.show()"
   ]
  },
  {
   "cell_type": "code",
   "execution_count": null,
   "metadata": {},
   "outputs": [],
   "source": []
  }
 ],
 "metadata": {
  "kernelspec": {
   "display_name": "Python 3",
   "language": "python",
   "name": "python3"
  },
  "language_info": {
   "codemirror_mode": {
    "name": "ipython",
    "version": 3
   },
   "file_extension": ".py",
   "mimetype": "text/x-python",
   "name": "python",
   "nbconvert_exporter": "python",
   "pygments_lexer": "ipython3",
   "version": "3.8.10"
  }
 },
 "nbformat": 4,
 "nbformat_minor": 4
}
