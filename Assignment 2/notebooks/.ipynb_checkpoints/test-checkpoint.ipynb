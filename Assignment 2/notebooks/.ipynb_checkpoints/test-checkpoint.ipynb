{
 "cells": [
  {
   "cell_type": "code",
   "execution_count": 1,
   "metadata": {},
   "outputs": [],
   "source": [
    "import torch\n",
    "import torch.nn as nn\n",
    "import os\n",
    "import pandas as pd\n",
    "import matplotlib.pyplot as plt\n",
    "import numpy as np\n",
    "import torch.nn.functional as F\n",
    "import torch.optim as optim"
   ]
  },
  {
   "cell_type": "code",
   "execution_count": 18,
   "metadata": {},
   "outputs": [
    {
     "data": {
      "text/plain": [
       "<matplotlib.image.AxesImage at 0x7efd0154ae20>"
      ]
     },
     "execution_count": 18,
     "metadata": {},
     "output_type": "execute_result"
    },
    {
     "data": {
      "image/png": "[encoded data removed]",
      "text/plain": [
       "<Figure size 432x288 with 1 Axes>"
      ]
     },
     "metadata": {
      "needs_background": "light"
     },
     "output_type": "display_data"
    }
   ],
   "source": [
    "data = pd.read_csv('../inputs/even_mnist.csv', header = None, sep = ' ')\n",
    "data = data.transpose()\n",
    "\n",
    "test_data = data.sample(n=3000, random_state=1, axis=1)\n",
    "train_data = data.drop(test_data.columns, axis=1)\n",
    "\n",
    "test_labels = data.iloc[-1 , :]\n",
    "train_labels = data.iloc[-1 , :]\n",
    "\n",
    "test_data = test_data/255\n",
    "train_data = train_data/255\n",
    "\n",
    "test_data.drop(test_data.tail(1).index,inplace=True)\n",
    "train_data.drop(train_data.tail(1).index,inplace=True)\n",
    "\n",
    "foo = np.array(train_data[5])\n",
    "plt.imshow(np.reshape(foo, (14,14)))"
   ]
  },
  {
   "cell_type": "code",
   "execution_count": 75,
   "metadata": {},
   "outputs": [],
   "source": [
    "class Net(nn.Module):\n",
    "    def __init__(self):\n",
    "        super(Net, self).__init__()\n",
    "        # an affine operation: y = Wx + b\n",
    "        self.fc1 = nn.Linear(196, 98) \n",
    "        self.fc2 = nn.Linear(98, 84)\n",
    "        self.fc3 = nn.Linear(84, 5)\n",
    "\n",
    "    def forward(self, x):\n",
    "        # Max pooling over a (2, 2) window\n",
    "        x = F.relu(self.fc1(x))\n",
    "        x = F.relu(self.fc2(x))\n",
    "        x = F.softmax(self.fc3(x))\n",
    "        \n",
    "        return x\n"
   ]
  },
  {
   "cell_type": "code",
   "execution_count": 76,
   "metadata": {},
   "outputs": [],
   "source": [
    "one_hot_matrix = F.one_hot(torch.arange(0, 5) , num_classes=5)\n",
    "\n",
    "def one_hot(target, one_hot):\n",
    "    new_target_vector = one_hot[int(target/2)]\n",
    "    return new_target_vector\n",
    "\n"
   ]
  },
  {
   "cell_type": "code",
   "execution_count": 77,
   "metadata": {},
   "outputs": [
    {
     "name": "stdout",
     "output_type": "stream",
     "text": [
      "cpu\n"
     ]
    }
   ],
   "source": [
    "device = torch.device(\"cpu\")\n",
    "\n",
    "# Assuming that we are on a CUDA machine, this should print a CUDA device:\n",
    "\n",
    "print(device)"
   ]
  },
  {
   "cell_type": "code",
   "execution_count": 78,
   "metadata": {},
   "outputs": [
    {
     "data": {
      "text/plain": [
       "tensor(0)"
      ]
     },
     "execution_count": 78,
     "metadata": {},
     "output_type": "execute_result"
    }
   ],
   "source": [
    "targets = torch.from_numpy(np.array(train_labels))\n",
    "targets[0]"
   ]
  },
  {
   "cell_type": "code",
   "execution_count": 79,
   "metadata": {},
   "outputs": [],
   "source": [
    "model = Net().to(torch.device(device))"
   ]
  },
  {
   "cell_type": "code",
   "execution_count": 80,
   "metadata": {},
   "outputs": [
    {
     "name": "stderr",
     "output_type": "stream",
     "text": [
      "<ipython-input-75-040632623555>:13: UserWarning: Implicit dimension choice for softmax has been deprecated. Change the call to include dim=X as an argument.\n",
      "  x = F.softmax(self.fc3(x))\n"
     ]
    },
    {
     "data": {
      "text/plain": [
       "tensor([[0.2006, 0.1933, 0.2079, 0.2107, 0.1874]], grad_fn=<SoftmaxBackward>)"
      ]
     },
     "execution_count": 80,
     "metadata": {},
     "output_type": "execute_result"
    }
   ],
   "source": [
    "inputs = torch.from_numpy(np.array(train_data.transpose()))\n",
    "foo = torch.reshape(inputs[1].float(), (1,-1))\n",
    "x = model.forward(foo)\n",
    "x"
   ]
  },
  {
   "cell_type": "code",
   "execution_count": null,
   "metadata": {},
   "outputs": [],
   "source": []
  },
  {
   "cell_type": "code",
   "execution_count": 81,
   "metadata": {},
   "outputs": [],
   "source": [
    "learning_rate = 0.01\n",
    "optimizer = optim.SGD(model.parameters(), lr=learning_rate)"
   ]
  },
  {
   "cell_type": "code",
   "execution_count": 83,
   "metadata": {},
   "outputs": [
    {
     "name": "stderr",
     "output_type": "stream",
     "text": [
      "<ipython-input-75-040632623555>:13: UserWarning: Implicit dimension choice for softmax has been deprecated. Change the call to include dim=X as an argument.\n",
      "  x = F.softmax(self.fc3(x))\n"
     ]
    },
    {
     "name": "stdout",
     "output_type": "stream",
     "text": [
      "Epoch [0/10]\tLoss: 0.4942897856235504\n",
      "Epoch [1/10]\tLoss: 0.4930580258369446\n",
      "Epoch [2/10]\tLoss: 0.4914291501045227\n",
      "Epoch [3/10]\tLoss: 0.4897378385066986\n",
      "Epoch [4/10]\tLoss: 0.4864608645439148\n",
      "Epoch [5/10]\tLoss: 0.4833761751651764\n",
      "Epoch [6/10]\tLoss: 0.4784797132015228\n",
      "Epoch [7/10]\tLoss: 0.47300276160240173\n",
      "Epoch [8/10]\tLoss: 0.4669357240200043\n",
      "Epoch [9/10]\tLoss: 0.4593707025051117\n"
     ]
    }
   ],
   "source": [
    "num_epochs = int(1e4)\n",
    "display_epochs = int(1e3)\n",
    "\n",
    "obj_vals= []\n",
    "\n",
    "inputs = torch.from_numpy(np.array(train_data.transpose()))\n",
    "\n",
    "loss = nn.CrossEntropyLoss()\n",
    "\n",
    "for epoch in range(10): \n",
    "    for i in range(len(train_data.columns)):\n",
    "        #input_temp = torch.reshape(inputs[i].float(), (1,-1))\n",
    "        input_temp = inputs[i].float()\n",
    "#         print(input_temp)\n",
    "         \n",
    "        input_temp = input_temp.to(device)\n",
    "        target_temp = one_hot(train_labels[i], one_hot_matrix)\n",
    "        target_temp = target_temp.to(device).float()\n",
    "        #target_temp = torch.reshape(target_temp, (1,-1)).float()\n",
    "#         print(target_temp)\n",
    "#         print('\\n')\n",
    "        optimizer.zero_grad()\n",
    "        obj_val = loss(model.forward(input_temp), train_labels[i])\n",
    "#         print(model.forward(input_temp))\n",
    "#         print('\\n')\n",
    "        \n",
    "         # clear any previous gradients  \n",
    "        obj_val.backward() # backprop step, calculates gradient values\n",
    "        optimizer.step() # apply gradients to model parameters\n",
    "#         print(obj_val.item())\n",
    "#         print('\\n')\n",
    "        obj_vals.append(obj_val.item())\n",
    "    print(f'Epoch [{epoch}/{10}]\\tLoss: {obj_val.item()}')"
   ]
  },
  {
   "cell_type": "code",
   "execution_count": null,
   "metadata": {},
   "outputs": [],
   "source": [
    "with torch.no_grad():\n",
    "    for i in range(len(test_data.columns)):\n",
    "        "
   ]
  },
  {
   "cell_type": "code",
   "execution_count": 23,
   "metadata": {},
   "outputs": [
    {
     "data": {
      "text/plain": [
       "torch.Size([26492, 196])"
      ]
     },
     "execution_count": 23,
     "metadata": {},
     "output_type": "execute_result"
    }
   ],
   "source": [
    "inputs.shape"
   ]
  },
  {
   "cell_type": "code",
   "execution_count": 24,
   "metadata": {},
   "outputs": [
    {
     "data": {
      "text/plain": [
       "tensor([0.0000, 0.0000, 0.0000, 0.0000, 0.0000, 0.0000, 0.0000, 0.0000, 0.0000,\n",
       "        0.0000, 0.0000, 0.0000, 0.0000, 0.0000, 0.0000, 0.0000, 0.0000, 0.0000,\n",
       "        0.0000, 0.0000, 0.0000, 0.0000, 0.0000, 0.0000, 0.0000, 0.0000, 0.0000,\n",
       "        0.0000, 0.0000, 0.0000, 0.0000, 0.0000, 0.0000, 0.0000, 0.0000, 0.9333,\n",
       "        0.9922, 0.9882, 0.0000, 0.0000, 0.0000, 0.0000, 0.0000, 0.0000, 0.0000,\n",
       "        0.0000, 0.0000, 0.0392, 0.8784, 0.9922, 0.9882, 0.9882, 0.9922, 0.0000,\n",
       "        0.0000, 0.0000, 0.0000, 0.0000, 0.0000, 0.0000, 0.0000, 0.9333, 0.9922,\n",
       "        0.9922, 0.9922, 0.7412, 1.0000, 0.0000, 0.0000, 0.0000, 0.0000, 0.0000,\n",
       "        0.0000, 0.0000, 0.6471, 0.9922, 0.9882, 0.2941, 0.4745, 0.0000, 0.9922,\n",
       "        0.6471, 0.0000, 0.0000, 0.0000, 0.0000, 0.0000, 0.2235, 0.9882, 0.9412,\n",
       "        0.1098, 0.0000, 0.0000, 0.0000, 0.9922, 0.7647, 0.0000, 0.0000, 0.0000,\n",
       "        0.0000, 0.0000, 0.9647, 0.9922, 0.0000, 0.0000, 0.0000, 0.0000, 0.0000,\n",
       "        1.0000, 0.7686, 0.0000, 0.0000, 0.0000, 0.0000, 0.0000, 0.9882, 0.9020,\n",
       "        0.0000, 0.0000, 0.0000, 0.0275, 0.9882, 0.9922, 0.0471, 0.0000, 0.0000,\n",
       "        0.0000, 0.0000, 0.0000, 0.9922, 0.8824, 0.0000, 0.0000, 0.4471, 0.9922,\n",
       "        0.9882, 0.0000, 0.0000, 0.0000, 0.0000, 0.0000, 0.0000, 0.0000, 0.9882,\n",
       "        0.9882, 0.8980, 0.9882, 0.9922, 0.8745, 0.2196, 0.0000, 0.0000, 0.0000,\n",
       "        0.0000, 0.0000, 0.0000, 0.0000, 0.7804, 0.9882, 0.9922, 0.9882, 0.5686,\n",
       "        0.0000, 0.0000, 0.0000, 0.0000, 0.0000, 0.0000, 0.0000, 0.0000, 0.0000,\n",
       "        0.0000, 0.0000, 0.0000, 0.0000, 0.0000, 0.0000, 0.0000, 0.0000, 0.0000,\n",
       "        0.0000, 0.0000, 0.0000, 0.0000, 0.0000, 0.0000, 0.0000, 0.0000, 0.0000,\n",
       "        0.0000, 0.0000, 0.0000, 0.0000, 0.0000, 0.0000, 0.0000],\n",
       "       dtype=torch.float64)"
      ]
     },
     "execution_count": 24,
     "metadata": {},
     "output_type": "execute_result"
    }
   ],
   "source": [
    "inputs[0]"
   ]
  },
  {
   "cell_type": "code",
   "execution_count": null,
   "metadata": {},
   "outputs": [],
   "source": []
  }
 ],
 "metadata": {
  "kernelspec": {
   "display_name": "Python 3",
   "language": "python",
   "name": "python3"
  },
  "language_info": {
   "codemirror_mode": {
    "name": "ipython",
    "version": 3
   },
   "file_extension": ".py",
   "mimetype": "text/x-python",
   "name": "python",
   "nbconvert_exporter": "python",
   "pygments_lexer": "ipython3",
   "version": "3.8.10"
  }
 },
 "nbformat": 4,
 "nbformat_minor": 4
}
